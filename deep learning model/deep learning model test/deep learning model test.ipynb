{
 "cells": [
  {
   "cell_type": "code",
   "execution_count": 1,
   "metadata": {},
   "outputs": [],
   "source": [
    "import tensorflow as tf\n",
    "import cv2\n",
    "import numpy as np\n"
   ]
  },
  {
   "cell_type": "code",
   "execution_count": 2,
   "metadata": {},
   "outputs": [
    {
     "name": "stdout",
     "output_type": "stream",
     "text": [
      "WARNING:tensorflow:No training configuration found in save file: the model was *not* compiled. Compile it manually.\n"
     ]
    }
   ],
   "source": [
    "model = tf.keras.models.load_model('tune model.h5')"
   ]
  },
  {
   "cell_type": "code",
   "execution_count": 3,
   "metadata": {},
   "outputs": [],
   "source": [
    "out = []\n",
    "for i in range (6):\n",
    "    t = cv2.imread(str(i)+'.jpg',0)\n",
    "    t= cv2.resize(t,dsize=(400,400))\n",
    "    out.append(t)"
   ]
  },
  {
   "cell_type": "code",
   "execution_count": null,
   "metadata": {},
   "outputs": [],
   "source": [
    "import numpy as np\n",
    "import cv2\n",
    "\n",
    "\n",
    "\n",
    "cap = cv2.VideoCapture(0)\n",
    "\n",
    "while(True):\n",
    "    # Capture frame-by-frame\n",
    "    ret, frame = cap.read()\n",
    "\n",
    "    #frame=cv2.flip(frame,1)\n",
    "        \n",
    "    #define region of interest\n",
    "    roi=frame[100:400, 100:400]\n",
    "    crop = cv2.cvtColor(roi, cv2.COLOR_BGR2GRAY)\n",
    "    cv2.imshow('crop',crop)\n",
    "    gray = cv2.cvtColor(frame, cv2.COLOR_BGR2GRAY)\n",
    "    \n",
    "    cv2.rectangle(gray,(100,100),(400,400),(255,255,0),0)    \n",
    "    cv2.imshow('frame',gray)    \n",
    "    \n",
    "    \n",
    "    \n",
    "\n",
    "    \n",
    "    \n",
    "    temp = cv2.resize(crop,dsize=(64,64))\n",
    "    #cv2.imshow('temp',temp)\n",
    "    temp = np.array(temp)/255\n",
    "    temp = temp.reshape(1,64,64,1)\n",
    "    o = model(temp)\n",
    "    tempm = str(o[0,0])\n",
    "    tempb = str(o[0,1])\n",
    "    tempta = str(o[0,2])\n",
    "    temptha = str(o[0,3])\n",
    "    tempkaf = str(o[0,4])\n",
    "    tempsin = str(o[0,5])\n",
    "    \n",
    "    index = 0 \n",
    "    ma = 0 \n",
    "    for i in range (6):\n",
    "        if o[0,i] > ma:\n",
    "            ma = o[0,i]\n",
    "            index = i\n",
    "    \n",
    "    #print(np.array(o).shape)\n",
    "\n",
    "    cv2.imshow('out',out[index])\n",
    "\n",
    "        \n",
    "    if cv2.waitKey(1) & 0xFF == ord('q'):\n",
    "        break\n",
    "\n",
    "# When everything done, release the capture\n",
    "cap.release()\n",
    "cv2.destroyAllWindows()"
   ]
  },
  {
   "cell_type": "code",
   "execution_count": null,
   "metadata": {},
   "outputs": [],
   "source": []
  },
  {
   "cell_type": "code",
   "execution_count": null,
   "metadata": {},
   "outputs": [],
   "source": []
  }
 ],
 "metadata": {
  "kernelspec": {
   "display_name": "Python 3",
   "language": "python",
   "name": "python3"
  },
  "language_info": {
   "codemirror_mode": {
    "name": "ipython",
    "version": 3
   },
   "file_extension": ".py",
   "mimetype": "text/x-python",
   "name": "python",
   "nbconvert_exporter": "python",
   "pygments_lexer": "ipython3",
   "version": "3.7.7"
  }
 },
 "nbformat": 4,
 "nbformat_minor": 4
}
